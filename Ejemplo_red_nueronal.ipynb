{
  "nbformat": 4,
  "nbformat_minor": 0,
  "metadata": {
    "colab": {
      "provenance": [],
      "authorship_tag": "ABX9TyNxThOYL6bmTiWKzbj5kBg5",
      "include_colab_link": true
    },
    "kernelspec": {
      "name": "python3",
      "display_name": "Python 3"
    },
    "language_info": {
      "name": "python"
    }
  },
  "cells": [
    {
      "cell_type": "markdown",
      "metadata": {
        "id": "view-in-github",
        "colab_type": "text"
      },
      "source": [
        "<a href=\"https://colab.research.google.com/github/Adiel13/red_neuronal/blob/main/Ejemplo_red_nueronal.ipynb\" target=\"_parent\"><img src=\"https://colab.research.google.com/assets/colab-badge.svg\" alt=\"Open In Colab\"/></a>"
      ]
    },
    {
      "cell_type": "markdown",
      "source": [
        "# Agregrando bibliotecas y funcones\n",
        "Se agregan las siguientes bibliotecas y funciones:\n",
        "\n",
        "\n",
        "1. numpy\n",
        "2. Tensorflow\n",
        "3. Standard\n",
        "\n"
      ],
      "metadata": {
        "id": "DCeKd0xfgys3"
      }
    },
    {
      "cell_type": "code",
      "execution_count": null,
      "metadata": {
        "id": "lBBsh82Je-ZJ"
      },
      "outputs": [],
      "source": [
        "import numpy as np\n",
        "import tensorflow as tf\n",
        "from sklearn.model_selection import train_test_split\n",
        "from sklearn.preprocessing import StandardScaler\n"
      ]
    },
    {
      "cell_type": "markdown",
      "source": [
        "# Generación de datos aleatorios\n",
        "\n",
        "Se generan datos de genero, edad, derseción, semestre\n"
      ],
      "metadata": {
        "id": "gvkGxE2piUeX"
      }
    },
    {
      "cell_type": "code",
      "source": [
        "np.random.seed(0)\n",
        "num_estudiantes = 10000\n",
        "edades = np.random.randint(18,50, num_estudiantes)\n",
        "semestres = np.random.randint(1,11, num_estudiantes)\n",
        "genero = np.random.choice(['Hombre','Mujer'], num_estudiantes, p=[0.95,0.05])\n"
      ],
      "metadata": {
        "id": "kwaqENAgiYYG"
      },
      "execution_count": null,
      "outputs": []
    },
    {
      "cell_type": "markdown",
      "source": [
        "# Agregando deserción\n",
        "Cálculo de derserciones, del primer al sexto semestre desertan el triple que del septimo al último.\n",
        "\n",
        "Las mujeres desertan 3 veces más que los hombres"
      ],
      "metadata": {
        "id": "xRsHI6APjeQm"
      }
    },
    {
      "cell_type": "code",
      "source": [
        "p_desercion = np.where(semestres <= 6, 0.3,0.1 )\n",
        "p_desercion = np.where(genero == 'Mujer', p_desercion*3, p_desercion)\n",
        "\n",
        "desercion = np.random.binomial(1, p_desercion)"
      ],
      "metadata": {
        "id": "lO7keJhojhWv"
      },
      "execution_count": null,
      "outputs": []
    },
    {
      "cell_type": "markdown",
      "source": [
        "# Se hace el DataFrame"
      ],
      "metadata": {
        "id": "_jzuW0ookkLl"
      }
    },
    {
      "cell_type": "code",
      "source": [
        "import pandas as pd\n",
        "datos_estudiantes = pd.DataFrame({'Edades': edades, 'Semestres': semestres, 'Genero':genero, 'Desersion':desercion})"
      ],
      "metadata": {
        "id": "w_ZnM3YIkj1O"
      },
      "execution_count": null,
      "outputs": []
    },
    {
      "cell_type": "code",
      "source": [
        "print(datos_estudiantes)"
      ],
      "metadata": {
        "colab": {
          "base_uri": "https://localhost:8080/"
        },
        "id": "wYWlHEamlF3t",
        "outputId": "af9769d7-7f6e-4da0-9eb1-9fd1a1710204"
      },
      "execution_count": null,
      "outputs": [
        {
          "output_type": "stream",
          "name": "stdout",
          "text": [
            "     Edades  Semestres  Genero  Desersion\n",
            "0        30          1  Hombre          0\n",
            "1        33          5  Hombre          0\n",
            "2        18          8  Hombre          0\n",
            "3        21          4  Hombre          1\n",
            "4        21          8  Hombre          1\n",
            "..      ...        ...     ...        ...\n",
            "995      28          3  Hombre          0\n",
            "996      34          5  Hombre          0\n",
            "997      26          9   Mujer          0\n",
            "998      34          8  Hombre          1\n",
            "999      32         10  Hombre          0\n",
            "\n",
            "[1000 rows x 4 columns]\n"
          ]
        }
      ]
    },
    {
      "cell_type": "markdown",
      "source": [
        "# Preparación de datos\n",
        "Eliminar texto y pasar edades y semestres a distribuciones"
      ],
      "metadata": {
        "id": "-D__OvislSvQ"
      }
    },
    {
      "cell_type": "code",
      "source": [
        "datos_estudiantes['Genero_binario'] = np.where(datos_estudiantes['Genero'] == 'Mujer', 1, 0)"
      ],
      "metadata": {
        "id": "t0PtU4r6lqDe"
      },
      "execution_count": null,
      "outputs": []
    },
    {
      "cell_type": "code",
      "source": [
        "print(datos_estudiantes)"
      ],
      "metadata": {
        "colab": {
          "base_uri": "https://localhost:8080/"
        },
        "id": "c7h-v1nCmIyW",
        "outputId": "241134dc-9732-4ac1-f2c5-05a5a58a9347"
      },
      "execution_count": null,
      "outputs": [
        {
          "output_type": "stream",
          "name": "stdout",
          "text": [
            "     Edades  Semestres  Genero  Desersion  Genero_binario\n",
            "0        30          1  Hombre          0               0\n",
            "1        33          5  Hombre          0               0\n",
            "2        18          8  Hombre          0               0\n",
            "3        21          4  Hombre          1               0\n",
            "4        21          8  Hombre          1               0\n",
            "..      ...        ...     ...        ...             ...\n",
            "995      28          3  Hombre          0               0\n",
            "996      34          5  Hombre          0               0\n",
            "997      26          9   Mujer          0               1\n",
            "998      34          8  Hombre          1               0\n",
            "999      32         10  Hombre          0               0\n",
            "\n",
            "[1000 rows x 5 columns]\n"
          ]
        }
      ]
    },
    {
      "cell_type": "code",
      "source": [
        "scaler = StandardScaler()\n",
        "\n",
        "datos_estudiantes[['Edades', 'Semestres']] = scaler.fit_transform(datos_estudiantes[['Edades', 'Semestres']])"
      ],
      "metadata": {
        "id": "rwL2zGsUmRVV"
      },
      "execution_count": null,
      "outputs": []
    },
    {
      "cell_type": "code",
      "source": [
        "print(datos_estudiantes)"
      ],
      "metadata": {
        "colab": {
          "base_uri": "https://localhost:8080/"
        },
        "id": "bsZJIuxWm_d_",
        "outputId": "3dee8920-fcab-43eb-a16a-88214e6a07fa"
      },
      "execution_count": null,
      "outputs": [
        {
          "output_type": "stream",
          "name": "stdout",
          "text": [
            "       Edades  Semestres  Genero  Desersion  Genero_binario\n",
            "0    0.849347  -1.579939  Hombre          0               0\n",
            "1    1.459365  -0.180834  Hombre          0               0\n",
            "2   -1.590722   0.868495  Hombre          0               0\n",
            "3   -0.980705  -0.530611  Hombre          1               0\n",
            "4   -0.980705   0.868495  Hombre          1               0\n",
            "..        ...        ...     ...        ...             ...\n",
            "995  0.442669  -0.880387  Hombre          0               0\n",
            "996  1.662704  -0.180834  Hombre          0               0\n",
            "997  0.035991   1.218271   Mujer          0               1\n",
            "998  1.662704   0.868495  Hombre          1               0\n",
            "999  1.256026   1.568047  Hombre          0               0\n",
            "\n",
            "[1000 rows x 5 columns]\n"
          ]
        }
      ]
    },
    {
      "cell_type": "markdown",
      "source": [
        "# Preparar ambiente de entreno"
      ],
      "metadata": {
        "id": "GneWFuExnPqc"
      }
    },
    {
      "cell_type": "code",
      "source": [
        "x = datos_estudiantes[['Edades', 'Semestres', 'Genero_binario']]\n",
        "y = datos_estudiantes['Desersion']\n",
        "\n",
        "x_train, x_test, y_train, y_test = train_test_split(x, y, test_size=0.2, random_state=0)"
      ],
      "metadata": {
        "id": "5dcKQEKwnSDt"
      },
      "execution_count": null,
      "outputs": []
    },
    {
      "cell_type": "code",
      "source": [
        "print(y_test)"
      ],
      "metadata": {
        "colab": {
          "base_uri": "https://localhost:8080/"
        },
        "id": "Dr9Exfl2oo8N",
        "outputId": "92e36c02-3615-4908-bece-f786abef439a"
      },
      "execution_count": null,
      "outputs": [
        {
          "output_type": "stream",
          "name": "stdout",
          "text": [
            "993    0\n",
            "859    0\n",
            "298    0\n",
            "553    0\n",
            "672    0\n",
            "      ..\n",
            "679    0\n",
            "722    0\n",
            "215    0\n",
            "653    0\n",
            "150    0\n",
            "Name: Desersion, Length: 200, dtype: int64\n"
          ]
        }
      ]
    },
    {
      "cell_type": "markdown",
      "source": [
        "# Creación de red neuronal\n",
        "\n",
        "\n",
        "*   3 variables iniciales o neuronas\n",
        "*   2 capas ocultas de 64 y 32 neuronas respectivamente\n",
        "*   1 neurona de salida\n",
        "\n",
        "Para realizar los calculos de utilizará ReLU y Sigmoide\n"
      ],
      "metadata": {
        "id": "5DILZDbnpSL8"
      }
    },
    {
      "cell_type": "code",
      "source": [
        "red_neuronal = tf.keras.Sequential([\n",
        "    tf.keras.layers.Dense(64, activation='relu', input_shape=(3,)),\n",
        "    tf.keras.layers.Dense(32, activation='relu'),\n",
        "    tf.keras.layers.Dense(16, activation='relu'),\n",
        "    tf.keras.layers.Dense(1, activation='sigmoid')\n",
        "])"
      ],
      "metadata": {
        "id": "x2c6QqffpR9M"
      },
      "execution_count": null,
      "outputs": []
    },
    {
      "cell_type": "markdown",
      "source": [
        "# Compilación"
      ],
      "metadata": {
        "id": "CvVUi6xArRId"
      }
    },
    {
      "cell_type": "code",
      "source": [
        "red_neuronal.compile(optimizer='adam', loss='binary_crossentropy', metrics=['accuracy'])"
      ],
      "metadata": {
        "id": "SDz03cKXrQy6"
      },
      "execution_count": null,
      "outputs": []
    },
    {
      "cell_type": "markdown",
      "source": [
        "# Entreno"
      ],
      "metadata": {
        "id": "rbNOFfkXryi8"
      }
    },
    {
      "cell_type": "code",
      "source": [
        "red_neuronal.fit(x_train, y_train, epochs=50, batch_size=32, validation_data=(x_test, y_test))"
      ],
      "metadata": {
        "colab": {
          "base_uri": "https://localhost:8080/"
        },
        "id": "98v3sVMsr0Mw",
        "outputId": "e91f7893-a15a-4334-a8b5-ac821a948562"
      },
      "execution_count": null,
      "outputs": [
        {
          "output_type": "stream",
          "name": "stdout",
          "text": [
            "Epoch 1/50\n",
            "250/250 [==============================] - 2s 4ms/step - loss: 0.5125 - accuracy: 0.7804 - val_loss: 0.5093 - val_accuracy: 0.7870\n",
            "Epoch 2/50\n",
            "250/250 [==============================] - 1s 3ms/step - loss: 0.4901 - accuracy: 0.7875 - val_loss: 0.5121 - val_accuracy: 0.7855\n",
            "Epoch 3/50\n",
            "250/250 [==============================] - 1s 3ms/step - loss: 0.4897 - accuracy: 0.7875 - val_loss: 0.5053 - val_accuracy: 0.7870\n",
            "Epoch 4/50\n",
            "250/250 [==============================] - 1s 4ms/step - loss: 0.4884 - accuracy: 0.7881 - val_loss: 0.5049 - val_accuracy: 0.7870\n",
            "Epoch 5/50\n",
            "250/250 [==============================] - 1s 5ms/step - loss: 0.4874 - accuracy: 0.7884 - val_loss: 0.5010 - val_accuracy: 0.7875\n",
            "Epoch 6/50\n",
            "250/250 [==============================] - 1s 5ms/step - loss: 0.4869 - accuracy: 0.7874 - val_loss: 0.5022 - val_accuracy: 0.7875\n",
            "Epoch 7/50\n",
            "250/250 [==============================] - 1s 3ms/step - loss: 0.4872 - accuracy: 0.7884 - val_loss: 0.5016 - val_accuracy: 0.7875\n",
            "Epoch 8/50\n",
            "250/250 [==============================] - 1s 3ms/step - loss: 0.4873 - accuracy: 0.7886 - val_loss: 0.5011 - val_accuracy: 0.7870\n",
            "Epoch 9/50\n",
            "250/250 [==============================] - 1s 3ms/step - loss: 0.4862 - accuracy: 0.7885 - val_loss: 0.5003 - val_accuracy: 0.7875\n",
            "Epoch 10/50\n",
            "250/250 [==============================] - 1s 3ms/step - loss: 0.4858 - accuracy: 0.7883 - val_loss: 0.5029 - val_accuracy: 0.7870\n",
            "Epoch 11/50\n",
            "250/250 [==============================] - 1s 3ms/step - loss: 0.4866 - accuracy: 0.7893 - val_loss: 0.4990 - val_accuracy: 0.7880\n",
            "Epoch 12/50\n",
            "250/250 [==============================] - 1s 3ms/step - loss: 0.4849 - accuracy: 0.7889 - val_loss: 0.4989 - val_accuracy: 0.7880\n",
            "Epoch 13/50\n",
            "250/250 [==============================] - 1s 3ms/step - loss: 0.4851 - accuracy: 0.7893 - val_loss: 0.4981 - val_accuracy: 0.7885\n",
            "Epoch 14/50\n",
            "250/250 [==============================] - 1s 3ms/step - loss: 0.4846 - accuracy: 0.7891 - val_loss: 0.5013 - val_accuracy: 0.7875\n",
            "Epoch 15/50\n",
            "250/250 [==============================] - 1s 4ms/step - loss: 0.4846 - accuracy: 0.7891 - val_loss: 0.4973 - val_accuracy: 0.7880\n",
            "Epoch 16/50\n",
            "250/250 [==============================] - 1s 3ms/step - loss: 0.4838 - accuracy: 0.7895 - val_loss: 0.4954 - val_accuracy: 0.7885\n",
            "Epoch 17/50\n",
            "250/250 [==============================] - 1s 3ms/step - loss: 0.4835 - accuracy: 0.7895 - val_loss: 0.4979 - val_accuracy: 0.7885\n",
            "Epoch 18/50\n",
            "250/250 [==============================] - 1s 3ms/step - loss: 0.4828 - accuracy: 0.7896 - val_loss: 0.5004 - val_accuracy: 0.7885\n",
            "Epoch 19/50\n",
            "250/250 [==============================] - 1s 5ms/step - loss: 0.4827 - accuracy: 0.7893 - val_loss: 0.4972 - val_accuracy: 0.7885\n",
            "Epoch 20/50\n",
            "250/250 [==============================] - 1s 5ms/step - loss: 0.4829 - accuracy: 0.7895 - val_loss: 0.4960 - val_accuracy: 0.7885\n",
            "Epoch 21/50\n",
            "250/250 [==============================] - 1s 3ms/step - loss: 0.4832 - accuracy: 0.7891 - val_loss: 0.4962 - val_accuracy: 0.7885\n",
            "Epoch 22/50\n",
            "250/250 [==============================] - 1s 3ms/step - loss: 0.4825 - accuracy: 0.7897 - val_loss: 0.4980 - val_accuracy: 0.7885\n",
            "Epoch 23/50\n",
            "250/250 [==============================] - 1s 3ms/step - loss: 0.4822 - accuracy: 0.7896 - val_loss: 0.4960 - val_accuracy: 0.7885\n",
            "Epoch 24/50\n",
            "250/250 [==============================] - 1s 3ms/step - loss: 0.4829 - accuracy: 0.7896 - val_loss: 0.4959 - val_accuracy: 0.7885\n",
            "Epoch 25/50\n",
            "250/250 [==============================] - 1s 3ms/step - loss: 0.4823 - accuracy: 0.7897 - val_loss: 0.5006 - val_accuracy: 0.7885\n",
            "Epoch 26/50\n",
            "250/250 [==============================] - 1s 3ms/step - loss: 0.4824 - accuracy: 0.7897 - val_loss: 0.4944 - val_accuracy: 0.7885\n",
            "Epoch 27/50\n",
            "250/250 [==============================] - 1s 3ms/step - loss: 0.4821 - accuracy: 0.7897 - val_loss: 0.4942 - val_accuracy: 0.7875\n",
            "Epoch 28/50\n",
            "250/250 [==============================] - 1s 3ms/step - loss: 0.4821 - accuracy: 0.7896 - val_loss: 0.4959 - val_accuracy: 0.7885\n",
            "Epoch 29/50\n",
            "250/250 [==============================] - 1s 3ms/step - loss: 0.4819 - accuracy: 0.7897 - val_loss: 0.4976 - val_accuracy: 0.7885\n",
            "Epoch 30/50\n",
            "250/250 [==============================] - 1s 3ms/step - loss: 0.4821 - accuracy: 0.7897 - val_loss: 0.4947 - val_accuracy: 0.7885\n",
            "Epoch 31/50\n",
            "250/250 [==============================] - 1s 3ms/step - loss: 0.4826 - accuracy: 0.7897 - val_loss: 0.4954 - val_accuracy: 0.7885\n",
            "Epoch 32/50\n",
            "250/250 [==============================] - 1s 3ms/step - loss: 0.4816 - accuracy: 0.7896 - val_loss: 0.4937 - val_accuracy: 0.7885\n",
            "Epoch 33/50\n",
            "250/250 [==============================] - 1s 3ms/step - loss: 0.4818 - accuracy: 0.7897 - val_loss: 0.4929 - val_accuracy: 0.7885\n",
            "Epoch 34/50\n",
            "250/250 [==============================] - 1s 6ms/step - loss: 0.4821 - accuracy: 0.7896 - val_loss: 0.4950 - val_accuracy: 0.7885\n",
            "Epoch 35/50\n",
            "250/250 [==============================] - 1s 5ms/step - loss: 0.4820 - accuracy: 0.7897 - val_loss: 0.4934 - val_accuracy: 0.7885\n",
            "Epoch 36/50\n",
            "250/250 [==============================] - 1s 3ms/step - loss: 0.4819 - accuracy: 0.7897 - val_loss: 0.4936 - val_accuracy: 0.7885\n",
            "Epoch 37/50\n",
            "250/250 [==============================] - 1s 3ms/step - loss: 0.4818 - accuracy: 0.7897 - val_loss: 0.4932 - val_accuracy: 0.7885\n",
            "Epoch 38/50\n",
            "250/250 [==============================] - 1s 4ms/step - loss: 0.4816 - accuracy: 0.7897 - val_loss: 0.4954 - val_accuracy: 0.7885\n",
            "Epoch 39/50\n",
            "250/250 [==============================] - 1s 4ms/step - loss: 0.4822 - accuracy: 0.7897 - val_loss: 0.4951 - val_accuracy: 0.7885\n",
            "Epoch 40/50\n",
            "250/250 [==============================] - 1s 3ms/step - loss: 0.4819 - accuracy: 0.7897 - val_loss: 0.4943 - val_accuracy: 0.7885\n",
            "Epoch 41/50\n",
            "250/250 [==============================] - 1s 3ms/step - loss: 0.4823 - accuracy: 0.7897 - val_loss: 0.4951 - val_accuracy: 0.7885\n",
            "Epoch 42/50\n",
            "250/250 [==============================] - 1s 3ms/step - loss: 0.4817 - accuracy: 0.7897 - val_loss: 0.4957 - val_accuracy: 0.7885\n",
            "Epoch 43/50\n",
            "250/250 [==============================] - 1s 4ms/step - loss: 0.4819 - accuracy: 0.7896 - val_loss: 0.4946 - val_accuracy: 0.7885\n",
            "Epoch 44/50\n",
            "250/250 [==============================] - 1s 3ms/step - loss: 0.4821 - accuracy: 0.7897 - val_loss: 0.4965 - val_accuracy: 0.7885\n",
            "Epoch 45/50\n",
            "250/250 [==============================] - 1s 3ms/step - loss: 0.4817 - accuracy: 0.7897 - val_loss: 0.4958 - val_accuracy: 0.7885\n",
            "Epoch 46/50\n",
            "250/250 [==============================] - 1s 3ms/step - loss: 0.4813 - accuracy: 0.7896 - val_loss: 0.4948 - val_accuracy: 0.7885\n",
            "Epoch 47/50\n",
            "250/250 [==============================] - 1s 3ms/step - loss: 0.4823 - accuracy: 0.7897 - val_loss: 0.4954 - val_accuracy: 0.7885\n",
            "Epoch 48/50\n",
            "250/250 [==============================] - 1s 5ms/step - loss: 0.4819 - accuracy: 0.7897 - val_loss: 0.4965 - val_accuracy: 0.7885\n",
            "Epoch 49/50\n",
            "250/250 [==============================] - 1s 6ms/step - loss: 0.4818 - accuracy: 0.7897 - val_loss: 0.4951 - val_accuracy: 0.7885\n",
            "Epoch 50/50\n",
            "250/250 [==============================] - 1s 3ms/step - loss: 0.4814 - accuracy: 0.7897 - val_loss: 0.4936 - val_accuracy: 0.7885\n"
          ]
        },
        {
          "output_type": "execute_result",
          "data": {
            "text/plain": [
              "<keras.src.callbacks.History at 0x7cee0f62af20>"
            ]
          },
          "metadata": {},
          "execution_count": 41
        }
      ]
    },
    {
      "cell_type": "markdown",
      "source": [
        "# Uso o pruebas"
      ],
      "metadata": {
        "id": "KLSQnDcVsYdE"
      }
    },
    {
      "cell_type": "code",
      "source": [
        "edad = 45\n",
        "semestre = 9\n",
        "genero = 'Hombre'\n",
        "g_bin = 1 if genero == 'Mujer' else 0\n",
        "\n",
        "norm = scaler.transform([[edad, semestre]])\n",
        "\n",
        "input = np.array([[norm[0][0], norm[0][1], g_bin]])\n",
        "\n",
        "prediccion = red_neuronal.predict(input)\n",
        "result = prediccion[0][0]\n",
        "\n",
        "print(result*100)"
      ],
      "metadata": {
        "colab": {
          "base_uri": "https://localhost:8080/"
        },
        "id": "syNzCifGsb0l",
        "outputId": "39e6aa45-c411-4b65-fe0b-b223d47e88fb"
      },
      "execution_count": null,
      "outputs": [
        {
          "output_type": "stream",
          "name": "stdout",
          "text": [
            "1/1 [==============================] - 0s 90ms/step\n",
            "8.937124907970428\n"
          ]
        },
        {
          "output_type": "stream",
          "name": "stderr",
          "text": [
            "/usr/local/lib/python3.10/dist-packages/sklearn/base.py:439: UserWarning: X does not have valid feature names, but StandardScaler was fitted with feature names\n",
            "  warnings.warn(\n"
          ]
        }
      ]
    }
  ]
}